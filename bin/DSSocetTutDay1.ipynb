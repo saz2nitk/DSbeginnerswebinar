{
  "nbformat": 4,
  "nbformat_minor": 0,
  "metadata": {
    "colab": {
      "name": "DSSocetTutDay1.ipynb",
      "provenance": [],
      "collapsed_sections": []
    },
    "kernelspec": {
      "name": "python3",
      "display_name": "Python 3"
    }
  },
  "cells": [
    {
      "cell_type": "code",
      "metadata": {
        "id": "JSZIpABlHV0G",
        "colab_type": "code",
        "colab": {}
      },
      "source": [
        "# Data type"
      ],
      "execution_count": 0,
      "outputs": []
    },
    {
      "cell_type": "code",
      "metadata": {
        "id": "yI9TndKEIWZV",
        "colab_type": "code",
        "colab": {}
      },
      "source": [
        "a = 2"
      ],
      "execution_count": 0,
      "outputs": []
    },
    {
      "cell_type": "code",
      "metadata": {
        "id": "auyZIirrIkAq",
        "colab_type": "code",
        "outputId": "74c61ab4-9114-43d8-9d95-0b5404038a6c",
        "colab": {
          "base_uri": "https://localhost:8080/",
          "height": 34
        }
      },
      "source": [
        "a"
      ],
      "execution_count": 0,
      "outputs": [
        {
          "output_type": "execute_result",
          "data": {
            "text/plain": [
              "2"
            ]
          },
          "metadata": {
            "tags": []
          },
          "execution_count": 5
        }
      ]
    },
    {
      "cell_type": "code",
      "metadata": {
        "id": "D0b6lBS_Ik5t",
        "colab_type": "code",
        "outputId": "73aa7963-79a1-4bce-8dc2-7d41160eb209",
        "colab": {
          "base_uri": "https://localhost:8080/",
          "height": 34
        }
      },
      "source": [
        "a = 2 \n",
        "b = 3\n",
        "c = 5.6\n",
        "d = (a+b)/c\n",
        "print(d)"
      ],
      "execution_count": 0,
      "outputs": [
        {
          "output_type": "stream",
          "text": [
            "0.8928571428571429\n"
          ],
          "name": "stdout"
        }
      ]
    },
    {
      "cell_type": "code",
      "metadata": {
        "id": "tD1NZeHWJEzX",
        "colab_type": "code",
        "outputId": "785a8805-1514-4d9a-c1c9-0d51452699d1",
        "colab": {
          "base_uri": "https://localhost:8080/",
          "height": 69
        }
      },
      "source": [
        "a = 'apple'\n",
        "b = \"apple is a \"\n",
        "c = \"\"\"This is my pen\n",
        "        LKMLFKNREL\n",
        "        LKFLENFL\n",
        "      \"\"\"\n",
        "print(a+ ' '+ b)\n",
        "print(b)\n",
        "c"
      ],
      "execution_count": 0,
      "outputs": [
        {
          "output_type": "stream",
          "text": [
            "apple apple is a \n",
            "apple is a \n"
          ],
          "name": "stdout"
        },
        {
          "output_type": "execute_result",
          "data": {
            "text/plain": [
              "'This is my pen\\n        LKMLFKNREL\\n        LKFLENFL\\n      '"
            ]
          },
          "metadata": {
            "tags": []
          },
          "execution_count": 57
        }
      ]
    },
    {
      "cell_type": "code",
      "metadata": {
        "id": "JhqQesiKJfal",
        "colab_type": "code",
        "outputId": "40775196-dd1e-4dcd-f038-fe3a3c36690d",
        "colab": {
          "base_uri": "https://localhost:8080/",
          "height": 34
        }
      },
      "source": [
        "d = a+b\n",
        "e = a.replace('p','m')\n",
        "e"
      ],
      "execution_count": 0,
      "outputs": [
        {
          "output_type": "execute_result",
          "data": {
            "text/plain": [
              "'ammle'"
            ]
          },
          "metadata": {
            "tags": []
          },
          "execution_count": 12
        }
      ]
    },
    {
      "cell_type": "code",
      "metadata": {
        "id": "DgfiX-TVJz0G",
        "colab_type": "code",
        "colab": {}
      },
      "source": [
        "# List, Tuples and Dictionaries # array"
      ],
      "execution_count": 0,
      "outputs": []
    },
    {
      "cell_type": "code",
      "metadata": {
        "id": "U4RQ9fAzJ3GC",
        "colab_type": "code",
        "outputId": "a0d01777-9b02-4aff-d3df-d9d76df523eb",
        "colab": {
          "base_uri": "https://localhost:8080/",
          "height": 34
        }
      },
      "source": [
        "aList = [2,3,4,5]\n",
        "aTuple = (2,3,4,5)\n",
        "aDict = {1:'a',2:'b',3:'b'}\n",
        "print(aList,aTuple,aDict)"
      ],
      "execution_count": 0,
      "outputs": [
        {
          "output_type": "stream",
          "text": [
            "[2, 3, 4, 5] (2, 3, 4, 5) {1: 'a', 2: 'b', 3: 'b'}\n"
          ],
          "name": "stdout"
        }
      ]
    },
    {
      "cell_type": "code",
      "metadata": {
        "id": "JgZfIRh4Kmb4",
        "colab_type": "code",
        "outputId": "d8c13793-ffe3-4342-aa74-4afb0018be1c",
        "colab": {
          "base_uri": "https://localhost:8080/",
          "height": 34
        }
      },
      "source": [
        "aList[2]"
      ],
      "execution_count": 0,
      "outputs": [
        {
          "output_type": "execute_result",
          "data": {
            "text/plain": [
              "4"
            ]
          },
          "metadata": {
            "tags": []
          },
          "execution_count": 18
        }
      ]
    },
    {
      "cell_type": "code",
      "metadata": {
        "id": "IcqcObM7K4QB",
        "colab_type": "code",
        "outputId": "7a120eb2-ee03-45e1-a685-459e467f585a",
        "colab": {
          "base_uri": "https://localhost:8080/",
          "height": 34
        }
      },
      "source": [
        "aList[1:3] # mutable"
      ],
      "execution_count": 0,
      "outputs": [
        {
          "output_type": "execute_result",
          "data": {
            "text/plain": [
              "[3, 4]"
            ]
          },
          "metadata": {
            "tags": []
          },
          "execution_count": 20
        }
      ]
    },
    {
      "cell_type": "code",
      "metadata": {
        "id": "-taDnIFVLJnd",
        "colab_type": "code",
        "outputId": "1e0e035e-159a-4bf2-9d90-00f3c8027562",
        "colab": {
          "base_uri": "https://localhost:8080/",
          "height": 34
        }
      },
      "source": [
        "aTuple[0:2] #immutable"
      ],
      "execution_count": 0,
      "outputs": [
        {
          "output_type": "execute_result",
          "data": {
            "text/plain": [
              "(2, 3)"
            ]
          },
          "metadata": {
            "tags": []
          },
          "execution_count": 21
        }
      ]
    },
    {
      "cell_type": "code",
      "metadata": {
        "id": "Y0msogRqLYHr",
        "colab_type": "code",
        "outputId": "6c574853-c8ca-44f4-f313-ff2a331f5376",
        "colab": {
          "base_uri": "https://localhost:8080/",
          "height": 34
        }
      },
      "source": [
        "aList[2] = 9\n",
        "aList"
      ],
      "execution_count": 0,
      "outputs": [
        {
          "output_type": "execute_result",
          "data": {
            "text/plain": [
              "[2, 3, 9, 5]"
            ]
          },
          "metadata": {
            "tags": []
          },
          "execution_count": 22
        }
      ]
    },
    {
      "cell_type": "code",
      "metadata": {
        "id": "qagAM6rILqM0",
        "colab_type": "code",
        "outputId": "29cbf083-8320-4db6-966b-d92ac33546bb",
        "colab": {
          "base_uri": "https://localhost:8080/",
          "height": 184
        }
      },
      "source": [
        "aTuple[2] = 9\n",
        "aTuple"
      ],
      "execution_count": 0,
      "outputs": [
        {
          "output_type": "error",
          "ename": "TypeError",
          "evalue": "ignored",
          "traceback": [
            "\u001b[0;31m---------------------------------------------------------------------------\u001b[0m",
            "\u001b[0;31mTypeError\u001b[0m                                 Traceback (most recent call last)",
            "\u001b[0;32m<ipython-input-23-529e82efc0b4>\u001b[0m in \u001b[0;36m<module>\u001b[0;34m()\u001b[0m\n\u001b[0;32m----> 1\u001b[0;31m \u001b[0maTuple\u001b[0m\u001b[0;34m[\u001b[0m\u001b[0;36m2\u001b[0m\u001b[0;34m]\u001b[0m \u001b[0;34m=\u001b[0m \u001b[0;36m9\u001b[0m\u001b[0;34m\u001b[0m\u001b[0;34m\u001b[0m\u001b[0m\n\u001b[0m\u001b[1;32m      2\u001b[0m \u001b[0maTuple\u001b[0m\u001b[0;34m\u001b[0m\u001b[0;34m\u001b[0m\u001b[0m\n",
            "\u001b[0;31mTypeError\u001b[0m: 'tuple' object does not support item assignment"
          ]
        }
      ]
    },
    {
      "cell_type": "code",
      "metadata": {
        "id": "0Cgjg6Z6Lz3J",
        "colab_type": "code",
        "outputId": "a35c0e36-1d2c-47cd-ecd7-ee57c150931b",
        "colab": {
          "base_uri": "https://localhost:8080/",
          "height": 184
        }
      },
      "source": [
        "aString = 'apple'\n",
        "aString[1] = 'k' # strings are immutable"
      ],
      "execution_count": 0,
      "outputs": [
        {
          "output_type": "error",
          "ename": "TypeError",
          "evalue": "ignored",
          "traceback": [
            "\u001b[0;31m---------------------------------------------------------------------------\u001b[0m",
            "\u001b[0;31mTypeError\u001b[0m                                 Traceback (most recent call last)",
            "\u001b[0;32m<ipython-input-27-ba12ba2bea56>\u001b[0m in \u001b[0;36m<module>\u001b[0;34m()\u001b[0m\n\u001b[1;32m      1\u001b[0m \u001b[0maString\u001b[0m \u001b[0;34m=\u001b[0m \u001b[0;34m'apple'\u001b[0m\u001b[0;34m\u001b[0m\u001b[0;34m\u001b[0m\u001b[0m\n\u001b[0;32m----> 2\u001b[0;31m \u001b[0maString\u001b[0m\u001b[0;34m[\u001b[0m\u001b[0;36m1\u001b[0m\u001b[0;34m]\u001b[0m \u001b[0;34m=\u001b[0m \u001b[0;34m'k'\u001b[0m\u001b[0;34m\u001b[0m\u001b[0;34m\u001b[0m\u001b[0m\n\u001b[0m",
            "\u001b[0;31mTypeError\u001b[0m: 'str' object does not support item assignment"
          ]
        }
      ]
    },
    {
      "cell_type": "code",
      "metadata": {
        "id": "KCCEju7jMD8I",
        "colab_type": "code",
        "outputId": "a7ba1c4b-4f48-4812-cd79-8cba1a9099ba",
        "colab": {
          "base_uri": "https://localhost:8080/",
          "height": 34
        }
      },
      "source": [
        "aDict # mutable"
      ],
      "execution_count": 0,
      "outputs": [
        {
          "output_type": "execute_result",
          "data": {
            "text/plain": [
              "{1: 'a', 2: 'b', 3: 'b'}"
            ]
          },
          "metadata": {
            "tags": []
          },
          "execution_count": 29
        }
      ]
    },
    {
      "cell_type": "code",
      "metadata": {
        "id": "_lXsfBxjMF6G",
        "colab_type": "code",
        "outputId": "514969f3-afdb-414b-8db4-2787bbfb53bb",
        "colab": {
          "base_uri": "https://localhost:8080/",
          "height": 34
        }
      },
      "source": [
        "aDict[2] = 'd'\n",
        "aDict"
      ],
      "execution_count": 0,
      "outputs": [
        {
          "output_type": "execute_result",
          "data": {
            "text/plain": [
              "{1: 'a', 2: 'd', 3: 'b'}"
            ]
          },
          "metadata": {
            "tags": []
          },
          "execution_count": 33
        }
      ]
    },
    {
      "cell_type": "code",
      "metadata": {
        "id": "udeJRLtkMVm2",
        "colab_type": "code",
        "outputId": "d602c877-e5ab-45f4-913c-e62fd88c4409",
        "colab": {
          "base_uri": "https://localhost:8080/",
          "height": 34
        }
      },
      "source": [
        "# if else\n",
        "a = [1,2,3,4,5,6]\n",
        "if a[-1]%3==0:\n",
        "  print('Number is even')\n",
        "else:\n",
        "  print('Numbe ris odd')"
      ],
      "execution_count": 0,
      "outputs": [
        {
          "output_type": "stream",
          "text": [
            "Number is even\n"
          ],
          "name": "stdout"
        }
      ]
    },
    {
      "cell_type": "code",
      "metadata": {
        "id": "Ax3_lIlGNKZF",
        "colab_type": "code",
        "outputId": "1fec781a-5be6-494f-e6e9-e6e4d03974e1",
        "colab": {
          "base_uri": "https://localhost:8080/",
          "height": 104
        }
      },
      "source": [
        "# looping in python\n",
        "a = [2,4,1,3,5]\n",
        "for i in a:\n",
        "  print(i)\n"
      ],
      "execution_count": 0,
      "outputs": [
        {
          "output_type": "stream",
          "text": [
            "2\n",
            "4\n",
            "1\n",
            "3\n",
            "5\n"
          ],
          "name": "stdout"
        }
      ]
    },
    {
      "cell_type": "code",
      "metadata": {
        "id": "9ahhGWqLNcot",
        "colab_type": "code",
        "outputId": "86a99067-f4f0-4afd-eff5-97c5f54095a0",
        "colab": {
          "base_uri": "https://localhost:8080/",
          "height": 190
        }
      },
      "source": [
        "a = 0\n",
        "while a<10:\n",
        "  print('loop running')\n",
        "  a = a + 1\n"
      ],
      "execution_count": 0,
      "outputs": [
        {
          "output_type": "stream",
          "text": [
            "loop running\n",
            "loop running\n",
            "loop running\n",
            "loop running\n",
            "loop running\n",
            "loop running\n",
            "loop running\n",
            "loop running\n",
            "loop running\n",
            "loop running\n"
          ],
          "name": "stdout"
        }
      ]
    },
    {
      "cell_type": "code",
      "metadata": {
        "id": "M3_9rjz4NvXE",
        "colab_type": "code",
        "outputId": "abd74437-0e75-48ab-d031-5d73c93d377e",
        "colab": {
          "base_uri": "https://localhost:8080/",
          "height": 104
        }
      },
      "source": [
        "a = [2,4,1,3,6]\n",
        "for i in range(5):\n",
        "  print(i,a[i])"
      ],
      "execution_count": 0,
      "outputs": [
        {
          "output_type": "stream",
          "text": [
            "0 2\n",
            "1 4\n",
            "2 1\n",
            "3 3\n",
            "4 6\n"
          ],
          "name": "stdout"
        }
      ]
    },
    {
      "cell_type": "code",
      "metadata": {
        "id": "-BqFKCAMOSyg",
        "colab_type": "code",
        "outputId": "4710bed8-de37-45f8-c702-94a76c93e658",
        "colab": {
          "base_uri": "https://localhost:8080/",
          "height": 190
        }
      },
      "source": [
        "# print all multiples of 3 till 30\n",
        "for i in range(1,31):\n",
        "  if i%3==0:\n",
        "    print(i)"
      ],
      "execution_count": 0,
      "outputs": [
        {
          "output_type": "stream",
          "text": [
            "3\n",
            "6\n",
            "9\n",
            "12\n",
            "15\n",
            "18\n",
            "21\n",
            "24\n",
            "27\n",
            "30\n"
          ],
          "name": "stdout"
        }
      ]
    },
    {
      "cell_type": "code",
      "metadata": {
        "id": "e6MMJaAOQNft",
        "colab_type": "code",
        "colab": {}
      },
      "source": [
        ""
      ],
      "execution_count": 0,
      "outputs": []
    },
    {
      "cell_type": "code",
      "metadata": {
        "id": "PbqEQe-JO47d",
        "colab_type": "code",
        "colab": {}
      },
      "source": [
        "# functions in python\n",
        "def makeTea(num,size):\n",
        "  \n",
        "  return 'Here is {} {} cup of tea'.format(num,size)"
      ],
      "execution_count": 0,
      "outputs": []
    },
    {
      "cell_type": "code",
      "metadata": {
        "id": "-kNsbWgTP4Qo",
        "colab_type": "code",
        "outputId": "d6434898-0546-439c-a6ea-f05de0f1a9a2",
        "colab": {
          "base_uri": "https://localhost:8080/",
          "height": 34
        }
      },
      "source": [
        "tea = makeTea(3,'Large')\n",
        "print(tea)"
      ],
      "execution_count": 0,
      "outputs": [
        {
          "output_type": "stream",
          "text": [
            "Here is 3 Large cup of tea\n"
          ],
          "name": "stdout"
        }
      ]
    },
    {
      "cell_type": "code",
      "metadata": {
        "id": "Ff0NOiKCQO2T",
        "colab_type": "code",
        "outputId": "add13d52-8102-48e3-8560-e1b5e285c57e",
        "colab": {
          "base_uri": "https://localhost:8080/",
          "height": 190
        }
      },
      "source": [
        "def printMultiple(num,lastNum):\n",
        "  for i in range(1,lastNum+1):\n",
        "    if i%num==0:\n",
        "      print(i)\n",
        "printMultiple(3,30)"
      ],
      "execution_count": 0,
      "outputs": [
        {
          "output_type": "stream",
          "text": [
            "3\n",
            "6\n",
            "9\n",
            "12\n",
            "15\n",
            "18\n",
            "21\n",
            "24\n",
            "27\n",
            "30\n"
          ],
          "name": "stdout"
        }
      ]
    },
    {
      "cell_type": "code",
      "metadata": {
        "id": "m-c4oafFQkZn",
        "colab_type": "code",
        "outputId": "62be850e-23da-4885-f0e7-9ad4ce88ecc1",
        "colab": {
          "base_uri": "https://localhost:8080/",
          "height": 104
        }
      },
      "source": [
        "printMultiple(5,25)"
      ],
      "execution_count": 0,
      "outputs": [
        {
          "output_type": "stream",
          "text": [
            "5\n",
            "10\n",
            "15\n",
            "20\n",
            "25\n"
          ],
          "name": "stdout"
        }
      ]
    },
    {
      "cell_type": "code",
      "metadata": {
        "id": "wmwFtWQdQsup",
        "colab_type": "code",
        "outputId": "bdcd8b6d-888c-4cad-c4de-4143a5ef2b3f",
        "colab": {
          "base_uri": "https://localhost:8080/",
          "height": 69
        }
      },
      "source": [
        "class Operations:\n",
        "\n",
        "  def __init__(self):\n",
        "    self.c = 2\n",
        "\n",
        "  def add(self,a,b):\n",
        "    return a+b+self.c\n",
        "\n",
        "  def sub(self,a,b):\n",
        "    return a-b\n",
        "\n",
        "  def div(self,a,b):\n",
        "    try:\n",
        "      op = a/b\n",
        "    except:\n",
        "      op = 100000000\n",
        "    return op\n",
        "\n",
        "operationObj = Operations()\n",
        "print(operationObj.add(2,3))\n",
        "print(operationObj.sub(4,2))\n",
        "print(operationObj.div(9,0))"
      ],
      "execution_count": 0,
      "outputs": [
        {
          "output_type": "stream",
          "text": [
            "7\n",
            "2\n",
            "100000000\n"
          ],
          "name": "stdout"
        }
      ]
    }
  ]
}