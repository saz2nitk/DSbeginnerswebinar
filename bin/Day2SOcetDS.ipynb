{
  "nbformat": 4,
  "nbformat_minor": 0,
  "metadata": {
    "colab": {
      "name": "Day2SOcetDS.ipynb",
      "provenance": [],
      "collapsed_sections": []
    },
    "kernelspec": {
      "name": "python3",
      "display_name": "Python 3"
    }
  },
  "cells": [
    {
      "cell_type": "code",
      "metadata": {
        "id": "xsJh1D4bNk2f",
        "colab_type": "code",
        "colab": {}
      },
      "source": [
        "#packages/libraries in python"
      ],
      "execution_count": 0,
      "outputs": []
    },
    {
      "cell_type": "code",
      "metadata": {
        "id": "RKO_DE3pPNVS",
        "colab_type": "code",
        "colab": {}
      },
      "source": [
        "def add(a,b):\n",
        "  return a+b"
      ],
      "execution_count": 0,
      "outputs": []
    },
    {
      "cell_type": "code",
      "metadata": {
        "id": "VOrTRTdhPl74",
        "colab_type": "code",
        "outputId": "8f964af9-ef78-4bbc-d374-c8c321b967c6",
        "colab": {
          "base_uri": "https://localhost:8080/",
          "height": 34
        }
      },
      "source": [
        "#numpy, pandas, scikit-learn/sklearn\n",
        "import numpy as np\n",
        "a = np.array([[2,3,4],[5,5,8]])\n",
        "col = a.shape[1]\n",
        "row = a.shape[0]\n",
        "print('It has {} rows and {} cols'.format(row,col))"
      ],
      "execution_count": 0,
      "outputs": [
        {
          "output_type": "stream",
          "text": [
            "It has 2 rows and 3 cols\n"
          ],
          "name": "stdout"
        }
      ]
    },
    {
      "cell_type": "code",
      "metadata": {
        "id": "w1If1mSGR0pu",
        "colab_type": "code",
        "outputId": "98dd482d-2f9f-44ac-b2de-e70b2c2953b3",
        "colab": {
          "base_uri": "https://localhost:8080/",
          "height": 52
        }
      },
      "source": [
        "b = np.array([[3,2,1],[4,3,6]])\n",
        "a+b"
      ],
      "execution_count": 0,
      "outputs": [
        {
          "output_type": "execute_result",
          "data": {
            "text/plain": [
              "array([[ 6,  6,  4],\n",
              "       [20, 15, 48]])"
            ]
          },
          "metadata": {
            "tags": []
          },
          "execution_count": 13
        }
      ]
    },
    {
      "cell_type": "code",
      "metadata": {
        "id": "pHdHc_DKSMPR",
        "colab_type": "code",
        "outputId": "82df52f9-3b73-4ff3-9954-712329d7665f",
        "colab": {
          "base_uri": "https://localhost:8080/",
          "height": 52
        }
      },
      "source": [
        "c = np.array([[2],[1],[4]])\n",
        "np.matmul(a,c)\n",
        "#np.matmul(a,b)"
      ],
      "execution_count": 0,
      "outputs": [
        {
          "output_type": "execute_result",
          "data": {
            "text/plain": [
              "array([[23],\n",
              "       [47]])"
            ]
          },
          "metadata": {
            "tags": []
          },
          "execution_count": 16
        }
      ]
    },
    {
      "cell_type": "code",
      "metadata": {
        "id": "HXfqHdtdSusM",
        "colab_type": "code",
        "colab": {}
      },
      "source": [
        "#pandas\n",
        "#!pip install pandas"
      ],
      "execution_count": 0,
      "outputs": []
    },
    {
      "cell_type": "code",
      "metadata": {
        "id": "d8IC8GROS_FP",
        "colab_type": "code",
        "outputId": "dd2f341b-ab63-46bc-ab8f-c820faf52260",
        "colab": {
          "base_uri": "https://localhost:8080/",
          "height": 108
        }
      },
      "source": [
        "import pandas as pd\n",
        "#Dataframe\n",
        "df = pd.DataFrame(b,columns=['x1','x2','x3'])\n",
        "df"
      ],
      "execution_count": 0,
      "outputs": [
        {
          "output_type": "execute_result",
          "data": {
            "text/html": [
              "<div>\n",
              "<style scoped>\n",
              "    .dataframe tbody tr th:only-of-type {\n",
              "        vertical-align: middle;\n",
              "    }\n",
              "\n",
              "    .dataframe tbody tr th {\n",
              "        vertical-align: top;\n",
              "    }\n",
              "\n",
              "    .dataframe thead th {\n",
              "        text-align: right;\n",
              "    }\n",
              "</style>\n",
              "<table border=\"1\" class=\"dataframe\">\n",
              "  <thead>\n",
              "    <tr style=\"text-align: right;\">\n",
              "      <th></th>\n",
              "      <th>x1</th>\n",
              "      <th>x2</th>\n",
              "      <th>x3</th>\n",
              "    </tr>\n",
              "  </thead>\n",
              "  <tbody>\n",
              "    <tr>\n",
              "      <th>0</th>\n",
              "      <td>3</td>\n",
              "      <td>2</td>\n",
              "      <td>1</td>\n",
              "    </tr>\n",
              "    <tr>\n",
              "      <th>1</th>\n",
              "      <td>4</td>\n",
              "      <td>3</td>\n",
              "      <td>6</td>\n",
              "    </tr>\n",
              "  </tbody>\n",
              "</table>\n",
              "</div>"
            ],
            "text/plain": [
              "   x1  x2  x3\n",
              "0   3   2   1\n",
              "1   4   3   6"
            ]
          },
          "metadata": {
            "tags": []
          },
          "execution_count": 20
        }
      ]
    },
    {
      "cell_type": "code",
      "metadata": {
        "id": "Ct6JU2z1TnW9",
        "colab_type": "code",
        "outputId": "d9178185-7949-44e0-f24a-32e26d32b021",
        "colab": {
          "base_uri": "https://localhost:8080/",
          "height": 108
        }
      },
      "source": [
        "df[['x1','x3']]"
      ],
      "execution_count": 0,
      "outputs": [
        {
          "output_type": "execute_result",
          "data": {
            "text/html": [
              "<div>\n",
              "<style scoped>\n",
              "    .dataframe tbody tr th:only-of-type {\n",
              "        vertical-align: middle;\n",
              "    }\n",
              "\n",
              "    .dataframe tbody tr th {\n",
              "        vertical-align: top;\n",
              "    }\n",
              "\n",
              "    .dataframe thead th {\n",
              "        text-align: right;\n",
              "    }\n",
              "</style>\n",
              "<table border=\"1\" class=\"dataframe\">\n",
              "  <thead>\n",
              "    <tr style=\"text-align: right;\">\n",
              "      <th></th>\n",
              "      <th>x1</th>\n",
              "      <th>x3</th>\n",
              "    </tr>\n",
              "  </thead>\n",
              "  <tbody>\n",
              "    <tr>\n",
              "      <th>0</th>\n",
              "      <td>3</td>\n",
              "      <td>1</td>\n",
              "    </tr>\n",
              "    <tr>\n",
              "      <th>1</th>\n",
              "      <td>4</td>\n",
              "      <td>6</td>\n",
              "    </tr>\n",
              "  </tbody>\n",
              "</table>\n",
              "</div>"
            ],
            "text/plain": [
              "   x1  x3\n",
              "0   3   1\n",
              "1   4   6"
            ]
          },
          "metadata": {
            "tags": []
          },
          "execution_count": 21
        }
      ]
    },
    {
      "cell_type": "code",
      "metadata": {
        "id": "3NvNPC9bT5w4",
        "colab_type": "code",
        "outputId": "5c011d2d-384f-4838-aa94-71e9a0fd3284",
        "colab": {
          "base_uri": "https://localhost:8080/",
          "height": 279
        }
      },
      "source": [
        "data = pd.read_csv('/content/datasets_43_77_battles.csv')\n",
        "data.head(3)"
      ],
      "execution_count": 0,
      "outputs": [
        {
          "output_type": "execute_result",
          "data": {
            "text/html": [
              "<div>\n",
              "<style scoped>\n",
              "    .dataframe tbody tr th:only-of-type {\n",
              "        vertical-align: middle;\n",
              "    }\n",
              "\n",
              "    .dataframe tbody tr th {\n",
              "        vertical-align: top;\n",
              "    }\n",
              "\n",
              "    .dataframe thead th {\n",
              "        text-align: right;\n",
              "    }\n",
              "</style>\n",
              "<table border=\"1\" class=\"dataframe\">\n",
              "  <thead>\n",
              "    <tr style=\"text-align: right;\">\n",
              "      <th></th>\n",
              "      <th>name</th>\n",
              "      <th>year</th>\n",
              "      <th>battle_number</th>\n",
              "      <th>attacker_king</th>\n",
              "      <th>defender_king</th>\n",
              "      <th>attacker_1</th>\n",
              "      <th>attacker_2</th>\n",
              "      <th>attacker_3</th>\n",
              "      <th>attacker_4</th>\n",
              "      <th>defender_1</th>\n",
              "      <th>defender_2</th>\n",
              "      <th>defender_3</th>\n",
              "      <th>defender_4</th>\n",
              "      <th>attacker_outcome</th>\n",
              "      <th>battle_type</th>\n",
              "      <th>major_death</th>\n",
              "      <th>major_capture</th>\n",
              "      <th>attacker_size</th>\n",
              "      <th>defender_size</th>\n",
              "      <th>attacker_commander</th>\n",
              "      <th>defender_commander</th>\n",
              "      <th>summer</th>\n",
              "      <th>location</th>\n",
              "      <th>region</th>\n",
              "      <th>note</th>\n",
              "    </tr>\n",
              "  </thead>\n",
              "  <tbody>\n",
              "    <tr>\n",
              "      <th>0</th>\n",
              "      <td>Battle of the Golden Tooth</td>\n",
              "      <td>298</td>\n",
              "      <td>1</td>\n",
              "      <td>Joffrey/Tommen Baratheon</td>\n",
              "      <td>Robb Stark</td>\n",
              "      <td>Lannister</td>\n",
              "      <td>NaN</td>\n",
              "      <td>NaN</td>\n",
              "      <td>NaN</td>\n",
              "      <td>Tully</td>\n",
              "      <td>NaN</td>\n",
              "      <td>NaN</td>\n",
              "      <td>NaN</td>\n",
              "      <td>win</td>\n",
              "      <td>pitched battle</td>\n",
              "      <td>1.0</td>\n",
              "      <td>0.0</td>\n",
              "      <td>15000.0</td>\n",
              "      <td>4000.0</td>\n",
              "      <td>Jaime Lannister</td>\n",
              "      <td>Clement Piper, Vance</td>\n",
              "      <td>1.0</td>\n",
              "      <td>Golden Tooth</td>\n",
              "      <td>The Westerlands</td>\n",
              "      <td>NaN</td>\n",
              "    </tr>\n",
              "    <tr>\n",
              "      <th>1</th>\n",
              "      <td>Battle at the Mummer's Ford</td>\n",
              "      <td>298</td>\n",
              "      <td>2</td>\n",
              "      <td>Joffrey/Tommen Baratheon</td>\n",
              "      <td>Robb Stark</td>\n",
              "      <td>Lannister</td>\n",
              "      <td>NaN</td>\n",
              "      <td>NaN</td>\n",
              "      <td>NaN</td>\n",
              "      <td>Baratheon</td>\n",
              "      <td>NaN</td>\n",
              "      <td>NaN</td>\n",
              "      <td>NaN</td>\n",
              "      <td>win</td>\n",
              "      <td>ambush</td>\n",
              "      <td>1.0</td>\n",
              "      <td>0.0</td>\n",
              "      <td>NaN</td>\n",
              "      <td>120.0</td>\n",
              "      <td>Gregor Clegane</td>\n",
              "      <td>Beric Dondarrion</td>\n",
              "      <td>1.0</td>\n",
              "      <td>Mummer's Ford</td>\n",
              "      <td>The Riverlands</td>\n",
              "      <td>NaN</td>\n",
              "    </tr>\n",
              "    <tr>\n",
              "      <th>2</th>\n",
              "      <td>Battle of Riverrun</td>\n",
              "      <td>298</td>\n",
              "      <td>3</td>\n",
              "      <td>Joffrey/Tommen Baratheon</td>\n",
              "      <td>Robb Stark</td>\n",
              "      <td>Lannister</td>\n",
              "      <td>NaN</td>\n",
              "      <td>NaN</td>\n",
              "      <td>NaN</td>\n",
              "      <td>Tully</td>\n",
              "      <td>NaN</td>\n",
              "      <td>NaN</td>\n",
              "      <td>NaN</td>\n",
              "      <td>win</td>\n",
              "      <td>pitched battle</td>\n",
              "      <td>0.0</td>\n",
              "      <td>1.0</td>\n",
              "      <td>15000.0</td>\n",
              "      <td>10000.0</td>\n",
              "      <td>Jaime Lannister, Andros Brax</td>\n",
              "      <td>Edmure Tully, Tytos Blackwood</td>\n",
              "      <td>1.0</td>\n",
              "      <td>Riverrun</td>\n",
              "      <td>The Riverlands</td>\n",
              "      <td>NaN</td>\n",
              "    </tr>\n",
              "  </tbody>\n",
              "</table>\n",
              "</div>"
            ],
            "text/plain": [
              "                          name  year  ...           region note\n",
              "0   Battle of the Golden Tooth   298  ...  The Westerlands  NaN\n",
              "1  Battle at the Mummer's Ford   298  ...   The Riverlands  NaN\n",
              "2           Battle of Riverrun   298  ...   The Riverlands  NaN\n",
              "\n",
              "[3 rows x 25 columns]"
            ]
          },
          "metadata": {
            "tags": []
          },
          "execution_count": 31
        }
      ]
    },
    {
      "cell_type": "code",
      "metadata": {
        "id": "nF6zFzu0U1u_",
        "colab_type": "code",
        "outputId": "77b5abe9-7223-4669-941b-a90f27a2f897",
        "colab": {
          "base_uri": "https://localhost:8080/",
          "height": 34
        }
      },
      "source": [
        "data.shape"
      ],
      "execution_count": 0,
      "outputs": [
        {
          "output_type": "execute_result",
          "data": {
            "text/plain": [
              "(38, 25)"
            ]
          },
          "metadata": {
            "tags": []
          },
          "execution_count": 32
        }
      ]
    },
    {
      "cell_type": "code",
      "metadata": {
        "id": "9GIPoREwVLja",
        "colab_type": "code",
        "outputId": "76e28c37-ed42-4791-835c-d038f71d9313",
        "colab": {
          "base_uri": "https://localhost:8080/",
          "height": 691
        }
      },
      "source": [
        "data.defender_king"
      ],
      "execution_count": 0,
      "outputs": [
        {
          "output_type": "execute_result",
          "data": {
            "text/plain": [
              "0                   Robb Stark\n",
              "1                   Robb Stark\n",
              "2                   Robb Stark\n",
              "3     Joffrey/Tommen Baratheon\n",
              "4     Joffrey/Tommen Baratheon\n",
              "5     Joffrey/Tommen Baratheon\n",
              "6                   Robb Stark\n",
              "7                   Robb Stark\n",
              "8                   Robb Stark\n",
              "9                   Robb Stark\n",
              "10         Balon/Euron Greyjoy\n",
              "11                  Robb Stark\n",
              "12         Balon/Euron Greyjoy\n",
              "13                  Robb Stark\n",
              "14    Joffrey/Tommen Baratheon\n",
              "15             Renly Baratheon\n",
              "16                  Robb Stark\n",
              "17    Joffrey/Tommen Baratheon\n",
              "18    Joffrey/Tommen Baratheon\n",
              "19    Joffrey/Tommen Baratheon\n",
              "20    Joffrey/Tommen Baratheon\n",
              "21    Joffrey/Tommen Baratheon\n",
              "22                         NaN\n",
              "23                  Robb Stark\n",
              "24                         NaN\n",
              "25                  Robb Stark\n",
              "26    Joffrey/Tommen Baratheon\n",
              "27                Mance Rayder\n",
              "28         Balon/Euron Greyjoy\n",
              "29                         NaN\n",
              "30         Balon/Euron Greyjoy\n",
              "31    Joffrey/Tommen Baratheon\n",
              "32    Joffrey/Tommen Baratheon\n",
              "33           Stannis Baratheon\n",
              "34           Stannis Baratheon\n",
              "35                  Robb Stark\n",
              "36                  Robb Stark\n",
              "37    Joffrey/Tommen Baratheon\n",
              "Name: defender_king, dtype: object"
            ]
          },
          "metadata": {
            "tags": []
          },
          "execution_count": 33
        }
      ]
    },
    {
      "cell_type": "code",
      "metadata": {
        "id": "p2CGiQhKVZXp",
        "colab_type": "code",
        "outputId": "53b85687-9697-4931-e687-8f3ca570fa20",
        "colab": {
          "base_uri": "https://localhost:8080/",
          "height": 69
        }
      },
      "source": [
        "data.defender_king.unique()"
      ],
      "execution_count": 0,
      "outputs": [
        {
          "output_type": "execute_result",
          "data": {
            "text/plain": [
              "array(['Robb Stark', 'Joffrey/Tommen Baratheon', 'Balon/Euron Greyjoy',\n",
              "       'Renly Baratheon', nan, 'Mance Rayder', 'Stannis Baratheon'],\n",
              "      dtype=object)"
            ]
          },
          "metadata": {
            "tags": []
          },
          "execution_count": 34
        }
      ]
    },
    {
      "cell_type": "code",
      "metadata": {
        "id": "foT6EjZeVjRX",
        "colab_type": "code",
        "outputId": "53127291-7011-4e6a-af15-739a1ea4f3c7",
        "colab": {
          "base_uri": "https://localhost:8080/",
          "height": 138
        }
      },
      "source": [
        "data.defender_king.value_counts()"
      ],
      "execution_count": 0,
      "outputs": [
        {
          "output_type": "execute_result",
          "data": {
            "text/plain": [
              "Robb Stark                  14\n",
              "Joffrey/Tommen Baratheon    13\n",
              "Balon/Euron Greyjoy          4\n",
              "Stannis Baratheon            2\n",
              "Renly Baratheon              1\n",
              "Mance Rayder                 1\n",
              "Name: defender_king, dtype: int64"
            ]
          },
          "metadata": {
            "tags": []
          },
          "execution_count": 35
        }
      ]
    },
    {
      "cell_type": "code",
      "metadata": {
        "id": "BYeU5MvqV0Gt",
        "colab_type": "code",
        "outputId": "9530a4cd-f526-419c-8c22-8e17d1ae1491",
        "colab": {
          "base_uri": "https://localhost:8080/",
          "height": 282
        }
      },
      "source": [
        "data.attacker_size.plot()"
      ],
      "execution_count": 0,
      "outputs": [
        {
          "output_type": "execute_result",
          "data": {
            "text/plain": [
              "<matplotlib.axes._subplots.AxesSubplot at 0x7f577a3e3f60>"
            ]
          },
          "metadata": {
            "tags": []
          },
          "execution_count": 36
        },
        {
          "output_type": "display_data",
          "data": {
            "image/png": "[encoded data removed]",
            "text/plain": [
              "<Figure size 432x288 with 1 Axes>"
            ]
          },
          "metadata": {
            "tags": [],
            "needs_background": "light"
          }
        }
      ]
    },
    {
      "cell_type": "code",
      "metadata": {
        "id": "TDfmNQ_sWEu_",
        "colab_type": "code",
        "outputId": "cdd50f90-daac-4a39-936d-bcfd942162a8",
        "colab": {
          "base_uri": "https://localhost:8080/",
          "height": 691
        }
      },
      "source": [
        "#missing value filling\n",
        "data.attacker_size.fillna(1000)"
      ],
      "execution_count": 0,
      "outputs": [
        {
          "output_type": "execute_result",
          "data": {
            "text/plain": [
              "0      15000.0\n",
              "1       1000.0\n",
              "2      15000.0\n",
              "3      18000.0\n",
              "4       1875.0\n",
              "5       6000.0\n",
              "6       1000.0\n",
              "7       1000.0\n",
              "8       1000.0\n",
              "9        264.0\n",
              "10       244.0\n",
              "11        20.0\n",
              "12      1000.0\n",
              "13       618.0\n",
              "14      6000.0\n",
              "15      5000.0\n",
              "16     20000.0\n",
              "17       100.0\n",
              "18      6000.0\n",
              "19     21000.0\n",
              "20      1000.0\n",
              "21      3000.0\n",
              "22      1000.0\n",
              "23      1000.0\n",
              "24      1000.0\n",
              "25      3500.0\n",
              "26      1000.0\n",
              "27    100000.0\n",
              "28      1000.0\n",
              "29      1000.0\n",
              "30      4500.0\n",
              "31      1000.0\n",
              "32      1000.0\n",
              "33      1000.0\n",
              "34      2000.0\n",
              "35      3000.0\n",
              "36      1500.0\n",
              "37      5000.0\n",
              "Name: attacker_size, dtype: float64"
            ]
          },
          "metadata": {
            "tags": []
          },
          "execution_count": 38
        }
      ]
    },
    {
      "cell_type": "code",
      "metadata": {
        "id": "mIz3yqUlWoq0",
        "colab_type": "code",
        "outputId": "1b11f575-eec2-4384-881a-4ac5f95affb8",
        "colab": {
          "base_uri": "https://localhost:8080/",
          "height": 691
        }
      },
      "source": [
        "data.attacker_size.fillna(method='ffill',inplace=True)\n",
        "data.attacker_size"
      ],
      "execution_count": 0,
      "outputs": [
        {
          "output_type": "execute_result",
          "data": {
            "text/plain": [
              "0      15000.0\n",
              "1      15000.0\n",
              "2      15000.0\n",
              "3      18000.0\n",
              "4       1875.0\n",
              "5       6000.0\n",
              "6       6000.0\n",
              "7       6000.0\n",
              "8       1000.0\n",
              "9        264.0\n",
              "10       244.0\n",
              "11        20.0\n",
              "12        20.0\n",
              "13       618.0\n",
              "14      6000.0\n",
              "15      5000.0\n",
              "16     20000.0\n",
              "17       100.0\n",
              "18      6000.0\n",
              "19     21000.0\n",
              "20     21000.0\n",
              "21      3000.0\n",
              "22      3000.0\n",
              "23      3000.0\n",
              "24      3000.0\n",
              "25      3500.0\n",
              "26      3500.0\n",
              "27    100000.0\n",
              "28    100000.0\n",
              "29    100000.0\n",
              "30      4500.0\n",
              "31      4500.0\n",
              "32      4500.0\n",
              "33      4500.0\n",
              "34      2000.0\n",
              "35      3000.0\n",
              "36      1500.0\n",
              "37      5000.0\n",
              "Name: attacker_size, dtype: float64"
            ]
          },
          "metadata": {
            "tags": []
          },
          "execution_count": 40
        }
      ]
    },
    {
      "cell_type": "code",
      "metadata": {
        "id": "kuTrqTTAXLhB",
        "colab_type": "code",
        "outputId": "da1df388-9858-4dfd-f2e5-74bbbe23696a",
        "colab": {
          "base_uri": "https://localhost:8080/",
          "height": 138
        }
      },
      "source": [
        "#sklearn\n",
        "import sklearn\n",
        "from sklearn.tree import DecisionTreeClassifier as DT\n",
        "from sklearn.model_selection import train_test_split\n",
        "\n",
        "dataSub = data[['attacker_size','defender_size','major_death','attacker_outcome']]\n",
        "dataSub.head(3)"
      ],
      "execution_count": 0,
      "outputs": [
        {
          "output_type": "execute_result",
          "data": {
            "text/html": [
              "<div>\n",
              "<style scoped>\n",
              "    .dataframe tbody tr th:only-of-type {\n",
              "        vertical-align: middle;\n",
              "    }\n",
              "\n",
              "    .dataframe tbody tr th {\n",
              "        vertical-align: top;\n",
              "    }\n",
              "\n",
              "    .dataframe thead th {\n",
              "        text-align: right;\n",
              "    }\n",
              "</style>\n",
              "<table border=\"1\" class=\"dataframe\">\n",
              "  <thead>\n",
              "    <tr style=\"text-align: right;\">\n",
              "      <th></th>\n",
              "      <th>attacker_size</th>\n",
              "      <th>defender_size</th>\n",
              "      <th>major_death</th>\n",
              "      <th>attacker_outcome</th>\n",
              "    </tr>\n",
              "  </thead>\n",
              "  <tbody>\n",
              "    <tr>\n",
              "      <th>0</th>\n",
              "      <td>15000.0</td>\n",
              "      <td>4000.0</td>\n",
              "      <td>1.0</td>\n",
              "      <td>win</td>\n",
              "    </tr>\n",
              "    <tr>\n",
              "      <th>1</th>\n",
              "      <td>15000.0</td>\n",
              "      <td>120.0</td>\n",
              "      <td>1.0</td>\n",
              "      <td>win</td>\n",
              "    </tr>\n",
              "    <tr>\n",
              "      <th>2</th>\n",
              "      <td>15000.0</td>\n",
              "      <td>10000.0</td>\n",
              "      <td>0.0</td>\n",
              "      <td>win</td>\n",
              "    </tr>\n",
              "  </tbody>\n",
              "</table>\n",
              "</div>"
            ],
            "text/plain": [
              "   attacker_size  defender_size  major_death attacker_outcome\n",
              "0        15000.0         4000.0          1.0              win\n",
              "1        15000.0          120.0          1.0              win\n",
              "2        15000.0        10000.0          0.0              win"
            ]
          },
          "metadata": {
            "tags": []
          },
          "execution_count": 43
        }
      ]
    },
    {
      "cell_type": "code",
      "metadata": {
        "id": "G7NL7cUrYGDa",
        "colab_type": "code",
        "outputId": "3892a906-0b7d-48e9-c133-1de1f4797cc1",
        "colab": {
          "base_uri": "https://localhost:8080/",
          "height": 348
        }
      },
      "source": [
        "dataSub.fillna(method='ffill',inplace=True)\n",
        "X = dataSub[['attacker_size','defender_size','major_death']]\n",
        "y = dataSub['attacker_outcome']\n",
        "X_train,X_test,y_train,y_test = train_test_split(X,y,stratify=y,test_size=0.3)\n",
        "y_test"
      ],
      "execution_count": 0,
      "outputs": [
        {
          "output_type": "stream",
          "text": [
            "/usr/local/lib/python3.6/dist-packages/pandas/core/frame.py:4153: SettingWithCopyWarning: \n",
            "A value is trying to be set on a copy of a slice from a DataFrame\n",
            "\n",
            "See the caveats in the documentation: https://pandas.pydata.org/pandas-docs/stable/user_guide/indexing.html#returning-a-view-versus-a-copy\n",
            "  downcast=downcast,\n"
          ],
          "name": "stderr"
        },
        {
          "output_type": "execute_result",
          "data": {
            "text/plain": [
              "25     win\n",
              "29     win\n",
              "7      win\n",
              "36     win\n",
              "9      win\n",
              "1      win\n",
              "31     win\n",
              "20     win\n",
              "5      win\n",
              "21    loss\n",
              "2      win\n",
              "16    loss\n",
              "Name: attacker_outcome, dtype: object"
            ]
          },
          "metadata": {
            "tags": []
          },
          "execution_count": 65
        }
      ]
    },
    {
      "cell_type": "code",
      "metadata": {
        "id": "YqoaDA7BZYFY",
        "colab_type": "code",
        "outputId": "ab05b297-1131-4e07-c201-afe6f73f6c5a",
        "colab": {
          "base_uri": "https://localhost:8080/",
          "height": 121
        }
      },
      "source": [
        "dtClf = DT()\n",
        "dtClf.fit(X_train,y_train)"
      ],
      "execution_count": 0,
      "outputs": [
        {
          "output_type": "execute_result",
          "data": {
            "text/plain": [
              "DecisionTreeClassifier(ccp_alpha=0.0, class_weight=None, criterion='gini',\n",
              "                       max_depth=None, max_features=None, max_leaf_nodes=None,\n",
              "                       min_impurity_decrease=0.0, min_impurity_split=None,\n",
              "                       min_samples_leaf=1, min_samples_split=2,\n",
              "                       min_weight_fraction_leaf=0.0, presort='deprecated',\n",
              "                       random_state=None, splitter='best')"
            ]
          },
          "metadata": {
            "tags": []
          },
          "execution_count": 66
        }
      ]
    },
    {
      "cell_type": "code",
      "metadata": {
        "id": "UVR267RCaYJK",
        "colab_type": "code",
        "outputId": "89cdef8e-3cb9-4f44-cfab-1c690cdf8660",
        "colab": {
          "base_uri": "https://localhost:8080/",
          "height": 52
        }
      },
      "source": [
        "pred = dtClf.predict(X_test)\n",
        "print('predictions: ',pred)\n",
        "print('Actual values',list(y_test))\n"
      ],
      "execution_count": 0,
      "outputs": [
        {
          "output_type": "stream",
          "text": [
            "predictions:  ['win' 'win' 'win' 'win' 'win' 'win' 'win' 'win' 'win' 'win' 'win' 'win']\n",
            "Actual values ['win', 'win', 'win', 'win', 'win', 'win', 'win', 'win', 'win', 'loss', 'win', 'loss']\n"
          ],
          "name": "stdout"
        }
      ]
    },
    {
      "cell_type": "code",
      "metadata": {
        "id": "4VhP5HpKbDLr",
        "colab_type": "code",
        "outputId": "cdd21c16-2205-43de-c9a2-3c2e6d6eb793",
        "colab": {
          "base_uri": "https://localhost:8080/",
          "height": 69
        }
      },
      "source": [
        "from sklearn.metrics import accuracy_score,precision_score,recall_score\n",
        "print('Accuracy: ',accuracy_score(pred,y_test))\n",
        "print('Precsion: ',precision_score(pred,y_test,pos_label='win'))\n",
        "print('Recall: ',recall_score(pred,y_test,pos_label='win'))"
      ],
      "execution_count": 0,
      "outputs": [
        {
          "output_type": "stream",
          "text": [
            "Accuracy:  0.8333333333333334\n",
            "Precsion:  1.0\n",
            "Recall:  0.8333333333333334\n"
          ],
          "name": "stdout"
        }
      ]
    }
  ]
}